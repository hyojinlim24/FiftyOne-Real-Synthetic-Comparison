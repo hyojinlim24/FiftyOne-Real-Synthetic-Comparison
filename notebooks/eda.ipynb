{
 "cells": [
  {
   "cell_type": "code",
   "execution_count": null,
   "id": "e52f8a02",
   "metadata": {},
   "outputs": [],
   "source": [
    "import fiftyone as fo\n",
    "import matplotlib.pyplot as plt\n",
    "import numpy as np\n",
    "from src.data_loading import load_datasets, merge_datasets\n",
    "from src.keypoint_analysis import extract_keypoint_data, plot_keypoint_scatter\n",
    "\n",
    "# Load datasets\n",
    "real_dataset_1, real_dataset_2, syn_dataset = load_datasets()\n",
    "\n",
    "# Merge real datasets\n",
    "merged_real_dataset = merge_datasets(real_dataset_1, real_dataset_2)\n",
    "\n",
    "# Extract keypoint data from both datasets\n",
    "syn_keypoints_data = extract_keypoint_data(syn_dataset)\n",
    "\n",
    "# Keypoint labels\n",
    "keypoint_labels = [\n",
    "    \"Hip\", \"Right hip\", \"Right knee\", \"Right ankle\", \"Left hip\",\n",
    "    \"Left knee\", \"Left ankle\", \"Thorax\", \"Neck\", \"Head1\",\n",
    "    \"Head2\", \"Left shoulder\", \"Left elbow\", \"Left wrist\", \n",
    "    \"Right shoulder\", \"Right elbow\", \"Right wrist\", \n",
    "    \"Right center knuckle\", \"Left center knuckle\"\n",
    "]\n",
    "\n",
    "# Plot keypoints for synthetic dataset\n",
    "plot_keypoint_scatter(syn_keypoints_data, keypoint_labels, 'Synthetic Dataset')\n"
   ]
  }
 ],
 "metadata": {
  "kernelspec": {
   "display_name": "Python 3",
   "language": "python",
   "name": "python3"
  },
  "language_info": {
   "codemirror_mode": {
    "name": "ipython",
    "version": 3
   },
   "file_extension": ".py",
   "mimetype": "text/x-python",
   "name": "python",
   "nbconvert_exporter": "python",
   "pygments_lexer": "ipython3",
   "version": "3.8.10"
  }
 },
 "nbformat": 4,
 "nbformat_minor": 5
}
