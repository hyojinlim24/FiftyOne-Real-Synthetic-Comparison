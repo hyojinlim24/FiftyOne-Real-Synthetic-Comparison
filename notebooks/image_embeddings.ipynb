{
 "cells": [
  {
   "cell_type": "code",
   "execution_count": null,
   "id": "a1b2c3d4",
   "metadata": {},
   "outputs": [],
   "source": [
    "# Import necessary libraries\n",
    "import fiftyone as fo\n",
    "from PIL import Image\n",
    "import torch\n",
    "import torchvision.transforms as transforms\n",
    "from torchvision.models import inception_v3\n",
    "from src.data_loading import load_datasets, merge_datasets\n",
    "from src.image_embeddings import get_inception_activations, calculate_fid, calculate_inception_score\n",
    "import numpy as np\n",
    "\n",
    "# Load datasets\n",
    "real_dataset_1, real_dataset_2, syn_dataset = load_datasets()\n",
    "\n",
    "# Merge real datasets\n",
    "merged_real_dataset = merge_datasets(real_dataset_1, real_dataset_2)\n",
    "\n",
    "# Tag datasets\n",
    "for sample in real_dataset_1:\n",
    "    sample[\"dataset_type\"] = \"real\"\n",
    "    sample.save()\n",
    "for sample in real_dataset_2:\n",
    "    sample[\"dataset_type\"] = \"real\"\n",
    "    sample.save()\n",
    "for sample in syn_dataset:\n",
    "    sample[\"dataset_type\"] = \"synthetic\"\n",
    "    sample.save()\n",
    "\n",
    "# Merge datasets for visualization\n",
    "embeddings_dataset = fo.Dataset(name=\"embeddings_dataset\", persistent=True)\n",
    "embeddings_dataset.add_samples(real_dataset_1)\n",
    "embeddings_dataset.add_samples(real_dataset_2)\n",
    "embeddings_dataset.add_samples(syn_dataset)\n",
    "\n",
    "# Launch FiftyOne app\n",
    "session = fo.launch_app(embeddings_dataset, remote=True)\n",
    "\n",
    "# Load Inception model\n",
    "device = torch.device(\"cuda\" if torch.cuda.is_available() else \"cpu\")\n",
    "inception_model = inception_v3(pretrained=True, transform_input=False).to(device)\n",
    "inception_model.fc = torch.nn.Identity()\n",
    "\n",
    "# Get activations\n",
    "real_activations = get_inception_activations(merged_real_dataset, inception_model, device)\n",
    "syn_activations = get_inception_activations(syn_dataset, inception_model, device)\n",
    "\n",
    "# Calculate FID\n",
    "fid = calculate_fid(real_activations, syn_activations)\n",
    "print(f\"FID: {fid}\")\n",
    "\n",
    "# Calculate Inception Score\n",
    "is_mean, is_std = calculate_inception_score(syn_activations)\n",
    "print(f\"Inception Score: {is_mean} ± {is_std}\")\n"
   ]
  }
 ],
 "metadata": {
  "kernelspec": {
   "display_name": "Python 3",
   "language": "python",
   "name": "python3"
  },
  "language_info": {
   "codemirror_mode": {
    "name": "ipython",
    "version": 3
   },
   "file_extension": ".py",
   "mimetype": "text/x-python",
   "name": "python",
   "nbconvert_exporter": "python",
   "pygments_lexer": "ipython3",
   "version": "3.8.10"
  }
 },
 "nbformat": 4,
 "nbformat_minor": 5
}
